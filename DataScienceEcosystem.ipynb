{
 "cells": [
  {
   "cell_type": "markdown",
   "id": "75baeb39-da07-4860-8c24-b59b3d8185eb",
   "metadata": {},
   "source": [
    "<H1> Data Science Tools and Ecosystem </H1>"
   ]
  },
  {
   "cell_type": "markdown",
   "id": "8141e0d4-f8e3-480f-a0fd-cdf29678f8e3",
   "metadata": {
    "tags": []
   },
   "source": [
    "<p>In this notebook, Data Science Tools and Ecosystem are summarized.</p>"
   ]
  },
  {
   "cell_type": "markdown",
   "id": "fef63bb9-2fc6-492d-a021-68e6892c6da0",
   "metadata": {},
   "source": [
    "<p>Some of the popular languages that Data Scientists use are:</p>\n",
    "\n",
    "1. Python\n",
    "2. R\n",
    "3. SQL\n",
    "4. Julia\n",
    "5. Scala"
   ]
  },
  {
   "cell_type": "markdown",
   "id": "3b4495e8-0002-4e7c-bb8d-674bef490ebb",
   "metadata": {},
   "source": [
    "Some of the commonly used libraries used by Data Scientists include:\n",
    "1. NumPy\n",
    "2. Pandas\n",
    "3. Matplotlib\n",
    "4. Scikit-learn\n",
    "5. Tensorflow"
   ]
  },
  {
   "cell_type": "markdown",
   "id": "d32bed0c-d52b-497e-8f6b-49ce3828fed9",
   "metadata": {},
   "source": [
    "| Data Science Tools |\n",
    "| -------------------|\n",
    "| Jupyter Notebook   |\n",
    "| VSCode            |\n",
    "| RStudio            |"
   ]
  },
  {
   "cell_type": "markdown",
   "id": "05b4fcc9-785e-415e-ab93-e6234a0e266f",
   "metadata": {
    "tags": []
   },
   "source": [
    "<H3>Below are a few examples of evaluating arithmetic expressions in Python</H3>\n"
   ]
  },
  {
   "cell_type": "code",
   "execution_count": 4,
   "id": "64c87ef5-a2af-4383-9e7b-e2dfbe8b6717",
   "metadata": {
    "tags": []
   },
   "outputs": [
    {
     "data": {
      "text/plain": [
       "17"
      ]
     },
     "execution_count": 4,
     "metadata": {},
     "output_type": "execute_result"
    }
   ],
   "source": [
    "#This a simple arithmetic expression to mutiply then add integers\n",
    "(3*4)+5"
   ]
  },
  {
   "cell_type": "code",
   "execution_count": 5,
   "id": "cb250832-69c3-4e7e-9c68-6eaf47ffe49e",
   "metadata": {
    "tags": []
   },
   "outputs": [
    {
     "data": {
      "text/plain": [
       "3.3333333333333335"
      ]
     },
     "execution_count": 5,
     "metadata": {},
     "output_type": "execute_result"
    }
   ],
   "source": [
    "# This will convert 200 minutes to hours by diving by 60\n",
    "200/60"
   ]
  },
  {
   "cell_type": "markdown",
   "id": "a2435daf-fd56-4040-bf50-d0cb9ff53925",
   "metadata": {},
   "source": [
    "**Objectives:**\n",
    "<p>List popular languages for Data Science:</p>\n",
    "\n",
    "* Python\n",
    "* R\n",
    "* SQL\n",
    "* Scala\n"
   ]
  },
  {
   "cell_type": "markdown",
   "id": "c2e175d3-d20b-40b7-b46f-535d79cec720",
   "metadata": {},
   "source": [
    "<H2>Author</H2>\n",
    "Khin Moh Moh Thein"
   ]
  },
  {
   "cell_type": "code",
   "execution_count": null,
   "id": "af75487b-16c0-4c1c-b6d1-fdd74793ddde",
   "metadata": {},
   "outputs": [],
   "source": []
  }
 ],
 "metadata": {
  "kernelspec": {
   "display_name": "Python",
   "language": "python",
   "name": "conda-env-python-py"
  },
  "language_info": {
   "codemirror_mode": {
    "name": "ipython",
    "version": 3
   },
   "file_extension": ".py",
   "mimetype": "text/x-python",
   "name": "python",
   "nbconvert_exporter": "python",
   "pygments_lexer": "ipython3",
   "version": "3.7.12"
  }
 },
 "nbformat": 4,
 "nbformat_minor": 5
}
